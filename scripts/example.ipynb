{
 "cells": [
  {
   "cell_type": "code",
   "execution_count": 7,
   "id": "f8552233",
   "metadata": {},
   "outputs": [],
   "source": [
    "import pysocialforce as psf\n",
    "import torch\n",
    "import numpy as np\n",
    "from pathlib import Path"
   ]
  },
  {
   "cell_type": "code",
   "execution_count": 22,
   "id": "bccf7f37",
   "metadata": {},
   "outputs": [],
   "source": [
    "# n people; 1 going left, n-1 right\n",
    "def initial_state_corridor(n):\n",
    "    _ = torch.manual_seed(42)\n",
    "\n",
    "    state = torch.zeros((n, 6))\n",
    "\n",
    "    # positions\n",
    "    state[:n, 0:2] = ((torch.rand((n, 2)) - 0.5) * 2.0) * torch.tensor([25.0, 4.5])\n",
    "\n",
    "    # velocity\n",
    "    state[0, 2] = torch.normal(torch.full((1,), 1.34), 0.26)\n",
    "    state[1:, 2] = torch.normal(torch.full((n-1,), -1.34), 0.26)\n",
    "\n",
    "    # x destination\n",
    "    state[0, 4] = 100.0\n",
    "    state[1:, 4] = -100.0\n",
    "\n",
    "    return state\n",
    "\n",
    "# initial_state = initial_state_corridor(5)\n",
    "\n",
    "# -----------------------------------------------------------------------------\n",
    "initial_state = np.array(\n",
    "        [\n",
    "            [0.0, 10, -0.5, -0.5, 0.0, 0.0],\n",
    "            [0.5, 10, -0.5, -0.5, 0.5, 0.0],\n",
    "            [0.0, 0.0, 0.0, 0.5, 1.0, 10.0],\n",
    "            # [1.0, 0.0, 0.0, 0.5, 2.0, 10.0],\n",
    "            # [2.0, 0.0, 0.0, 0.5, 3.0, 10.0],\n",
    "            # [3.0, 0.0, 0.0, 0.5, 4.0, 10.0],\n",
    "        ]\n",
    "    )\n",
    "\n",
    "# -----------------------------------------------------------------------------\n",
    "# social groups information is represented as lists of indices of the state array\n",
    "groups = [[1, 0], [2]]\n",
    "# -----------------------------------------------------------------------------\n",
    "# list of linear obstacles given in the form of (x_min, x_max, y_min, y_max)\n",
    "# obs = [[-1, -1, -1, 11], [3, 3, -1, 11]]\n",
    "obs = [[1, 2, 7, 8]]"
   ]
  },
  {
   "cell_type": "code",
   "execution_count": 23,
   "id": "cd5149ff",
   "metadata": {},
   "outputs": [
    {
     "data": {
      "text/plain": [
       "<pysocialforce.simulator.Simulator at 0x7f2bc13cb2b0>"
      ]
     },
     "execution_count": 23,
     "metadata": {},
     "output_type": "execute_result"
    }
   ],
   "source": [
    "# initiate simulator\n",
    "sim = psf.Simulator(\n",
    "        initial_state, groups=groups, obstacles=obs\n",
    "    )\n",
    "# do 50 updates\n",
    "sim.step(n=50)"
   ]
  },
  {
   "cell_type": "code",
   "execution_count": 24,
   "id": "65f57bdf",
   "metadata": {},
   "outputs": [
    {
     "name": "stderr",
     "output_type": "stream",
     "text": [
      "INFO:[plot.py:131            __enter__() ] Start plotting.\n",
      "INFO:[plot.py:162             __exit__() ] Plotting ends.\n",
      "INFO:[plot.py:166             __exit__() ] Saving animation as images/exmaple.gif\n"
     ]
    }
   ],
   "source": [
    "with psf.plot.SceneVisualizer(sim, \"images/exmaple\") as sv:\n",
    "        sv.animate()\n",
    "        # sv.plot()"
   ]
  },
  {
   "cell_type": "code",
   "execution_count": null,
   "id": "d79575d8",
   "metadata": {},
   "outputs": [],
   "source": []
  }
 ],
 "metadata": {
  "kernelspec": {
   "display_name": "Python 3",
   "language": "python",
   "name": "python3"
  },
  "language_info": {
   "codemirror_mode": {
    "name": "ipython",
    "version": 3
   },
   "file_extension": ".py",
   "mimetype": "text/x-python",
   "name": "python",
   "nbconvert_exporter": "python",
   "pygments_lexer": "ipython3",
   "version": "3.8.10"
  }
 },
 "nbformat": 4,
 "nbformat_minor": 5
}
