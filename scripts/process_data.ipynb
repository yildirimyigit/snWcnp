{
 "cells": [
  {
   "cell_type": "code",
   "execution_count": 1,
   "id": "46f9be46",
   "metadata": {},
   "outputs": [],
   "source": [
    "from PIL import Image\n",
    "import torchvision.transforms as T\n",
    "import os\n",
    "import numpy as np"
   ]
  },
  {
   "cell_type": "code",
   "execution_count": 2,
   "id": "c47abf20",
   "metadata": {},
   "outputs": [],
   "source": [
    "run_id = \"1653389330\"\n",
    "root_path = \"../data/\"\n",
    "in_path = f\"{root_path}{run_id}/\"\n",
    "\n",
    "processed_path = f\"{root_path}processed/{run_id}/\"\n",
    "states_path, frames_path = f\"{in_path}states\", f\"{in_path}images\"\n",
    "\n",
    "try:\n",
    "    os.mkdir(processed_path)\n",
    "except OSError as error:\n",
    "    pass"
   ]
  },
  {
   "cell_type": "code",
   "execution_count": 4,
   "id": "243961a8",
   "metadata": {},
   "outputs": [],
   "source": [
    "def calculate_distance(px, py, dx, dy):\n",
    "    xdist = dx - px\n",
    "    ydist = dy - py\n",
    "    \n",
    "    return xdist, ydist\n",
    "\n",
    "def process_state(did, ids):\n",
    "    states = np.load(os.path.join(states_path, f\"{did}.npy\"))\n",
    "    new_states = np.zeros((len(ids), 4))  # len(ids) = 400 step, [dgx, dgy, vx, vy]\n",
    "    \n",
    "    for new_state_id, old_state_id in enumerate(ids):\n",
    "        # states -> [timesteps, people, 7]\n",
    "        # 1 state: [px, py, vx, vy, dx, dy, tau]\n",
    "        dgx, dgy = calculate_distance(states[old_state_id, 0, 0], states[old_state_id, 0, 1], \n",
    "                                     states[old_state_id, 0, 4], states[old_state_id, 0, 5])\n",
    "        vx, vy = states[old_state_id, 0, 2], states[old_state_id, 0, 3]\n",
    "        \n",
    "        new_states[new_state_id, :] = np.array([dgx, dgy, vx, vy])\n",
    "        \n",
    "    np.save(f'{processed_path}{did}/states.npy', new_states)\n",
    "\n",
    "def process_frame(did, ids):\n",
    "    image = Image.open(os.path.join(frames_path, f\"{did}.gif\"))\n",
    "    \n",
    "    transform = T.Compose([T.CenterCrop(256), T.Resize(128), T.Grayscale()])\n",
    "    \n",
    "    for new_frame_id, old_frame_id in enumerate(ids):\n",
    "        image.seek(old_frame_id)\n",
    "        frame = transform(image)\n",
    "        frame.save(f'{processed_path}{did}/{new_frame_id}.jpg')\n",
    "    \n",
    "    image.close()"
   ]
  },
  {
   "cell_type": "code",
   "execution_count": 5,
   "id": "d0b3ec96",
   "metadata": {},
   "outputs": [],
   "source": [
    "for filename in os.listdir(frames_path):\n",
    "    if filename.endswith(\".gif\"):\n",
    "        demonstration_id = int(filename.strip(\".gif\"))\n",
    "        \n",
    "        image = Image.open(os.path.join(frames_path, filename))\n",
    "        nof_steps = image.n_frames\n",
    "        image.close()\n",
    "        \n",
    "        ids = np.linspace(1, nof_steps-1, num=400, dtype=int)  # 400 steps on each trajectory\n",
    "        \n",
    "        try:\n",
    "            os.mkdir(f'{processed_path}{demonstration_id}')\n",
    "        except OSError as error:\n",
    "            pass\n",
    "        \n",
    "        process_state(demonstration_id, ids)\n",
    "        process_frame(demonstration_id, ids)"
   ]
  },
  {
   "cell_type": "code",
   "execution_count": null,
   "id": "3d7d33fa",
   "metadata": {},
   "outputs": [],
   "source": []
  }
 ],
 "metadata": {
  "kernelspec": {
   "display_name": "Python 3 (ipykernel)",
   "language": "python",
   "name": "python3"
  },
  "language_info": {
   "codemirror_mode": {
    "name": "ipython",
    "version": 3
   },
   "file_extension": ".py",
   "mimetype": "text/x-python",
   "name": "python",
   "nbconvert_exporter": "python",
   "pygments_lexer": "ipython3",
   "version": "3.8.10"
  }
 },
 "nbformat": 4,
 "nbformat_minor": 5
}
