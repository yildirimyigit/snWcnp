{
 "cells": [
  {
   "cell_type": "code",
   "execution_count": 9,
   "id": "4a9626f9",
   "metadata": {},
   "outputs": [],
   "source": [
    "from PIL import Image\n",
    "import torchvision.transforms as T\n",
    "import os\n",
    "import numpy as np"
   ]
  },
  {
   "cell_type": "code",
   "execution_count": 2,
   "id": "3242edec",
   "metadata": {},
   "outputs": [],
   "source": [
    "run_id = \"1653389330\"\n",
    "root_path = \"../data/\"\n",
    "in_path = f\"{root_path}{run_id}/\"\n",
    "\n",
    "processed_path = f\"{root_path}processed/{run_id}/\"\n",
    "states_path, frames_path = f\"{in_path}states\", f\"{in_path}images\"\n",
    "\n",
    "try:\n",
    "    os.mkdir(processed_path)\n",
    "except OSError as error:\n",
    "    pass"
   ]
  },
  {
   "cell_type": "code",
   "execution_count": null,
   "id": "c42d6cef",
   "metadata": {},
   "outputs": [],
   "source": []
  },
  {
   "cell_type": "code",
   "execution_count": 16,
   "id": "f2735353",
   "metadata": {},
   "outputs": [],
   "source": [
    "def process_state(did, ids):\n",
    "    pass\n",
    "\n",
    "\n",
    "def process_frame(did, ids):\n",
    "    image = Image.open(os.path.join(frames_path, f\"{did}.gif\"))\n",
    "    \n",
    "    # transform and save frames corrseponding to ids \n",
    "    # transform = T.Compose([T.CenterCrop(256), T.Resize(128), T.Grayscale(), T.ToTensor()])\n",
    "    # images = torch.stack((transform(Image.open('svn_.jpg')), \n",
    "    #                       transform(Image.open('svn.jpg'))),  dim=0)\n",
    "    \n",
    "    image.close()"
   ]
  },
  {
   "cell_type": "code",
   "execution_count": 18,
   "id": "c86b2e9c",
   "metadata": {},
   "outputs": [
    {
     "name": "stdout",
     "output_type": "stream",
     "text": [
      "../data/1653389330/images/2485.gif\n",
      "694\n",
      "../data/1653389330/images/2485.gif\n",
      "694\n"
     ]
    }
   ],
   "source": [
    "for filename in os.listdir(frames_path):\n",
    "    if filename.endswith(\".gif\"):\n",
    "        demonstration_id = int(filename.strip(\".gif\"))\n",
    "        \n",
    "        image = Image.open(os.path.join(frames_path, filename))\n",
    "        nof_steps = image.n_frames\n",
    "        image.close()\n",
    "        \n",
    "        ids = np.linspace(1, nof_steps, num=400, dtype=int)  # 400 steps on each trajectory\n",
    "        \n",
    "        process_state(demonstration_id, ids)\n",
    "        process_frame(demonstration_id, ids)\n",
    "        break"
   ]
  },
  {
   "cell_type": "code",
   "execution_count": null,
   "id": "65239018",
   "metadata": {},
   "outputs": [],
   "source": []
  }
 ],
 "metadata": {
  "kernelspec": {
   "display_name": "Python 3",
   "language": "python",
   "name": "python3"
  },
  "language_info": {
   "codemirror_mode": {
    "name": "ipython",
    "version": 3
   },
   "file_extension": ".py",
   "mimetype": "text/x-python",
   "name": "python",
   "nbconvert_exporter": "python",
   "pygments_lexer": "ipython3",
   "version": "3.8.10"
  }
 },
 "nbformat": 4,
 "nbformat_minor": 5
}
