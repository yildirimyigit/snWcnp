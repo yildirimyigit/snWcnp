{
 "cells": [
  {
   "cell_type": "code",
   "execution_count": 1,
   "id": "2251a6e3",
   "metadata": {},
   "outputs": [],
   "source": [
    "import pysocialforce as psf\n",
    "import numpy as np"
   ]
  },
  {
   "cell_type": "code",
   "execution_count": 2,
   "id": "c4f64267",
   "metadata": {},
   "outputs": [],
   "source": [
    "# n people; 0 is primary pedestrian, others randomly placed\n",
    "def circle_random_initial_states(n):\n",
    "    speed0 = 0.7 + 0.4 * np.random.rand(1)[0]\n",
    "    ped0 = np.array([-5.0, 0.0, speed0, 0.0, 6.0, 0.0])\n",
    "    \n",
    "    initial_states = np.zeros((n, 6))\n",
    "    initial_states[0, :] = ped0\n",
    "    \n",
    "    for i, theta in enumerate(0.25 + np.random.rand(n) * (2.0 * np.pi - 0.5)):\n",
    "        # ped1 at a random angle with +/-20% speed variation\n",
    "        c, s = np.cos(theta), np.sin(theta)\n",
    "        r = np.array([[c, -s], [s, c]])\n",
    "        ped1 = np.concatenate((\n",
    "            np.matmul(r, ped0[0:2]),\n",
    "            np.matmul(r, ped0[2:4] * (0.7 + 0.4 * np.random.rand(1))),\n",
    "            np.matmul(r, ped0[4:6]),\n",
    "        ))\n",
    "        initial_states[i, :] = ped1\n",
    "        \n",
    "    return initial_states\n",
    "\n",
    "\n",
    "# n people; 0 is primary pedestrian, others randomly placed stationary\n",
    "def random_initial_states(n):\n",
    "    x_lim, y_lim = 5, 5\n",
    "    speed0 = 0.7 + 0.4 * np.random.rand(1)[0]\n",
    "    sy, gy = np.random.uniform(-5, 5), np.random.uniform(-5, 5)\n",
    "    ped0 = np.array([-5.0, sy, speed0, 0.0, 5.0, gy])\n",
    "    \n",
    "    initial_states = np.zeros((n, 6))\n",
    "    initial_states[0, :] = ped0\n",
    "    \n",
    "    for i in range(1, n):\n",
    "        pedx = np.random.uniform(-x_lim, x_lim)\n",
    "        pedy = np.random.uniform(-y_lim, y_lim)\n",
    "        \n",
    "        initial_states[i] = [pedx, pedy, 0, 0, pedx, pedy]\n",
    "    \n",
    "    return initial_states\n",
    "\n",
    "\n",
    "def generate_random_scene(n):\n",
    "    # num_peds is a random number s.t. 1 <= num_peds <= n\n",
    "    num_peds = np.random.randint(1, n+1)\n",
    "    \n",
    "    ris = random_initial_states(num_peds)\n",
    "    groups = [[i] for i in range(num_peds)]\n",
    "    obs = None\n",
    "    \n",
    "    return ris, groups, obs"
   ]
  },
  {
   "cell_type": "code",
   "execution_count": 3,
   "id": "62fba44b",
   "metadata": {},
   "outputs": [],
   "source": [
    "# p0, p1: 2d x,y coords\n",
    "def is_close(p0, p1, threshold=0.5):\n",
    "    dist = np.sqrt((p0[0]-p1[0])**2 + (p0[1]-p1[1])**2)\n",
    "    return dist<=threshold\n",
    "\n",
    "def goal_reached():\n",
    "    ped0_state = sim.get_states()[0][-1, 0]\n",
    "    if is_close(initial_state[0, 4:6], ped0_state[0:2]):\n",
    "        return True\n",
    "    return False"
   ]
  },
  {
   "cell_type": "code",
   "execution_count": 4,
   "id": "593cd142",
   "metadata": {},
   "outputs": [
    {
     "name": "stdout",
     "output_type": "stream",
     "text": [
      "Scene: 0\r"
     ]
    },
    {
     "name": "stderr",
     "output_type": "stream",
     "text": [
      "MovieWriter stderr:\n",
      "convert-im6.q16: cache resources exhausted `data/1655807522/images/0.gif' @ error/cache.c/OpenPixelCache/4083.\n",
      "convert-im6.q16: memory allocation failed `data/1655807522/images/0.gif' @ error/quantize.c/SetGrayscaleImage/3285.\n",
      "\n"
     ]
    },
    {
     "ename": "CalledProcessError",
     "evalue": "Command '['convert', '-size', '432x288', '-depth', '8', '-delay', '20.0', '-loop', '0', 'rgba:-', 'data/1655807522/images/0.gif']' returned non-zero exit status 1.",
     "output_type": "error",
     "traceback": [
      "\u001b[0;31m---------------------------------------------------------------------------\u001b[0m",
      "\u001b[0;31mCalledProcessError\u001b[0m                        Traceback (most recent call last)",
      "Input \u001b[0;32mIn [4]\u001b[0m, in \u001b[0;36m<cell line: 14>\u001b[0;34m()\u001b[0m\n\u001b[1;32m     45\u001b[0m sv\u001b[38;5;241m.\u001b[39max\u001b[38;5;241m.\u001b[39mset_xlabel(\u001b[38;5;124m'\u001b[39m\u001b[38;5;124m'\u001b[39m)\n\u001b[1;32m     46\u001b[0m sv\u001b[38;5;241m.\u001b[39max\u001b[38;5;241m.\u001b[39mset_ylabel(\u001b[38;5;124m'\u001b[39m\u001b[38;5;124m'\u001b[39m)\n\u001b[0;32m---> 48\u001b[0m sv\u001b[38;5;241m.\u001b[39manimate()\n",
      "File \u001b[0;32m~/projects/3rdparty/PySocialForce/pysocialforce/utils/plot.py:171\u001b[0m, in \u001b[0;36mSceneVisualizer.__exit__\u001b[0;34m(self, exception_type, exception_value, traceback)\u001b[0m\n\u001b[1;32m    169\u001b[0m     \u001b[38;5;28;01mif\u001b[39;00m \u001b[38;5;28mself\u001b[39m\u001b[38;5;241m.\u001b[39mlogging:\n\u001b[1;32m    170\u001b[0m         logger\u001b[38;5;241m.\u001b[39minfo(\u001b[38;5;124mf\u001b[39m\u001b[38;5;124m\"\u001b[39m\u001b[38;5;124mSaving animation as \u001b[39m\u001b[38;5;132;01m{\u001b[39;00moutput\u001b[38;5;132;01m}\u001b[39;00m\u001b[38;5;124m\"\u001b[39m)\n\u001b[0;32m--> 171\u001b[0m     \u001b[38;5;28;43mself\u001b[39;49m\u001b[38;5;241;43m.\u001b[39;49m\u001b[43mani\u001b[49m\u001b[38;5;241;43m.\u001b[39;49m\u001b[43msave\u001b[49m\u001b[43m(\u001b[49m\u001b[43moutput\u001b[49m\u001b[43m,\u001b[49m\u001b[43m \u001b[49m\u001b[43mwriter\u001b[49m\u001b[38;5;241;43m=\u001b[39;49m\u001b[38;5;28;43mself\u001b[39;49m\u001b[38;5;241;43m.\u001b[39;49m\u001b[43mwriter\u001b[49m\u001b[43m)\u001b[49m\n\u001b[1;32m    172\u001b[0m \u001b[38;5;28;01melse\u001b[39;00m:\n\u001b[1;32m    173\u001b[0m     output \u001b[38;5;241m=\u001b[39m \u001b[38;5;28mself\u001b[39m\u001b[38;5;241m.\u001b[39moutput \u001b[38;5;241m+\u001b[39m \u001b[38;5;124m\"\u001b[39m\u001b[38;5;124m.png\u001b[39m\u001b[38;5;124m\"\u001b[39m\n",
      "File \u001b[0;32m/usr/lib/python3/dist-packages/matplotlib/animation.py:1156\u001b[0m, in \u001b[0;36mAnimation.save\u001b[0;34m(self, filename, writer, fps, dpi, codec, bitrate, extra_args, metadata, extra_anim, savefig_kwargs, progress_callback)\u001b[0m\n\u001b[1;32m   1154\u001b[0m                     progress_callback(frame_number, total_frames)\n\u001b[1;32m   1155\u001b[0m                     frame_number \u001b[38;5;241m+\u001b[39m\u001b[38;5;241m=\u001b[39m \u001b[38;5;241m1\u001b[39m\n\u001b[0;32m-> 1156\u001b[0m             writer\u001b[38;5;241m.\u001b[39mgrab_frame(\u001b[38;5;241m*\u001b[39m\u001b[38;5;241m*\u001b[39msavefig_kwargs)\n\u001b[1;32m   1158\u001b[0m \u001b[38;5;66;03m# Reconnect signal for first draw if necessary\u001b[39;00m\n\u001b[1;32m   1159\u001b[0m \u001b[38;5;28;01mif\u001b[39;00m reconnect_first_draw:\n",
      "File \u001b[0;32m/usr/lib/python3.8/contextlib.py:120\u001b[0m, in \u001b[0;36m_GeneratorContextManager.__exit__\u001b[0;34m(self, type, value, traceback)\u001b[0m\n\u001b[1;32m    118\u001b[0m \u001b[38;5;28;01mif\u001b[39;00m \u001b[38;5;28mtype\u001b[39m \u001b[38;5;129;01mis\u001b[39;00m \u001b[38;5;28;01mNone\u001b[39;00m:\n\u001b[1;32m    119\u001b[0m     \u001b[38;5;28;01mtry\u001b[39;00m:\n\u001b[0;32m--> 120\u001b[0m         \u001b[38;5;28;43mnext\u001b[39;49m\u001b[43m(\u001b[49m\u001b[38;5;28;43mself\u001b[39;49m\u001b[38;5;241;43m.\u001b[39;49m\u001b[43mgen\u001b[49m\u001b[43m)\u001b[49m\n\u001b[1;32m    121\u001b[0m     \u001b[38;5;28;01mexcept\u001b[39;00m \u001b[38;5;167;01mStopIteration\u001b[39;00m:\n\u001b[1;32m    122\u001b[0m         \u001b[38;5;28;01mreturn\u001b[39;00m \u001b[38;5;28;01mFalse\u001b[39;00m\n",
      "File \u001b[0;32m/usr/lib/python3/dist-packages/matplotlib/animation.py:232\u001b[0m, in \u001b[0;36mAbstractMovieWriter.saving\u001b[0;34m(self, fig, outfile, dpi, *args, **kwargs)\u001b[0m\n\u001b[1;32m    230\u001b[0m     \u001b[38;5;28;01myield\u001b[39;00m \u001b[38;5;28mself\u001b[39m\n\u001b[1;32m    231\u001b[0m \u001b[38;5;28;01mfinally\u001b[39;00m:\n\u001b[0;32m--> 232\u001b[0m     \u001b[38;5;28;43mself\u001b[39;49m\u001b[38;5;241;43m.\u001b[39;49m\u001b[43mfinish\u001b[49m\u001b[43m(\u001b[49m\u001b[43m)\u001b[49m\n",
      "File \u001b[0;32m/usr/lib/python3/dist-packages/matplotlib/animation.py:367\u001b[0m, in \u001b[0;36mMovieWriter.finish\u001b[0;34m(self)\u001b[0m\n\u001b[1;32m    365\u001b[0m \u001b[38;5;28;01mdef\u001b[39;00m \u001b[38;5;21mfinish\u001b[39m(\u001b[38;5;28mself\u001b[39m):\n\u001b[1;32m    366\u001b[0m     \u001b[38;5;124;03m'''Finish any processing for writing the movie.'''\u001b[39;00m\n\u001b[0;32m--> 367\u001b[0m     \u001b[38;5;28;43mself\u001b[39;49m\u001b[38;5;241;43m.\u001b[39;49m\u001b[43mcleanup\u001b[49m\u001b[43m(\u001b[49m\u001b[43m)\u001b[49m\n",
      "File \u001b[0;32m/usr/lib/python3/dist-packages/matplotlib/animation.py:410\u001b[0m, in \u001b[0;36mMovieWriter.cleanup\u001b[0;34m(self)\u001b[0m\n\u001b[1;32m    406\u001b[0m     _log\u001b[38;5;241m.\u001b[39mlog(\n\u001b[1;32m    407\u001b[0m         logging\u001b[38;5;241m.\u001b[39mWARNING \u001b[38;5;28;01mif\u001b[39;00m \u001b[38;5;28mself\u001b[39m\u001b[38;5;241m.\u001b[39m_proc\u001b[38;5;241m.\u001b[39mreturncode \u001b[38;5;28;01melse\u001b[39;00m logging\u001b[38;5;241m.\u001b[39mDEBUG,\n\u001b[1;32m    408\u001b[0m         \u001b[38;5;124m\"\u001b[39m\u001b[38;5;124mMovieWriter stderr:\u001b[39m\u001b[38;5;130;01m\\n\u001b[39;00m\u001b[38;5;132;01m%s\u001b[39;00m\u001b[38;5;124m\"\u001b[39m, err)\n\u001b[1;32m    409\u001b[0m \u001b[38;5;28;01mif\u001b[39;00m \u001b[38;5;28mself\u001b[39m\u001b[38;5;241m.\u001b[39m_proc\u001b[38;5;241m.\u001b[39mreturncode:\n\u001b[0;32m--> 410\u001b[0m     \u001b[38;5;28;01mraise\u001b[39;00m subprocess\u001b[38;5;241m.\u001b[39mCalledProcessError(\n\u001b[1;32m    411\u001b[0m         \u001b[38;5;28mself\u001b[39m\u001b[38;5;241m.\u001b[39m_proc\u001b[38;5;241m.\u001b[39mreturncode, \u001b[38;5;28mself\u001b[39m\u001b[38;5;241m.\u001b[39m_proc\u001b[38;5;241m.\u001b[39margs, out, err)\n",
      "\u001b[0;31mCalledProcessError\u001b[0m: Command '['convert', '-size', '432x288', '-depth', '8', '-delay', '20.0', '-loop', '0', 'rgba:-', 'data/1655807522/images/0.gif']' returned non-zero exit status 1."
     ]
    },
    {
     "data": {
      "image/png": "[encoded data removed]",
      "text/plain": [
       "<Figure size 432x288 with 1 Axes>"
      ]
     },
     "metadata": {},
     "output_type": "display_data"
    }
   ],
   "source": [
    "import os\n",
    "import time\n",
    "folder = str(int(time.time()))\n",
    "path = f\"data/{folder}/\"\n",
    "\n",
    "try:\n",
    "    os.makedirs(f\"{path}states\")\n",
    "    os.makedirs(f\"{path}images\")\n",
    "except OSError as error:\n",
    "    print(error)\n",
    "\n",
    "nof_scenes = 10000\n",
    "\n",
    "for i in range(nof_scenes):\n",
    "    if i%10 == 0:\n",
    "        print(f'Scene: {i}', end='\\r')\n",
    "    initial_state, grp, obs = generate_random_scene(5)\n",
    "    sim = psf.Simulator(initial_state, groups=grp, obstacles=obs, config_file=\"config/config.toml\")\n",
    "\n",
    "    clrs = ['k' for i in grp]\n",
    "    clrs[0] = 'lightgray'\n",
    "    \n",
    "    sim.peds.step_width = 0.01\n",
    "\n",
    "    nof_steps = 2000\n",
    "    cur_step = 0\n",
    "    while cur_step < nof_steps:\n",
    "        sim.step_once()\n",
    "        cur_step += 1\n",
    "        if goal_reached():  # wait 3 steps when goal is reached\n",
    "            sim.step(3)\n",
    "            break\n",
    "\n",
    "            \n",
    "    np.save(f\"{path}states/{i}\", sim.get_states()[0])\n",
    "    \n",
    "    with psf.plot.SceneVisualizer(sim, f\"{path}images/{i}\", agent_colors=clrs, logging=False) as sv:\n",
    "        sv.ax.set_xlim(-6, 6)\n",
    "        sv.ax.set_ylim(-6, 6)\n",
    "        \n",
    "        sv.ax.grid(False)\n",
    "        sv.ax.set_xticks([])\n",
    "        sv.ax.set_yticks([])\n",
    "        \n",
    "        sv.ax.set_xlabel('')\n",
    "        sv.ax.set_ylabel('')\n",
    "        \n",
    "        sv.animate()"
   ]
  },
  {
   "cell_type": "code",
   "execution_count": null,
   "id": "6c88bb75",
   "metadata": {},
   "outputs": [],
   "source": [
    "# import inspect\n",
    "# inspect.getfile(psf.plot)"
   ]
  },
  {
   "cell_type": "code",
   "execution_count": null,
   "id": "996f6f7c",
   "metadata": {},
   "outputs": [],
   "source": []
  }
 ],
 "metadata": {
  "kernelspec": {
   "display_name": "Python 3 (ipykernel)",
   "language": "python",
   "name": "python3"
  },
  "language_info": {
   "codemirror_mode": {
    "name": "ipython",
    "version": 3
   },
   "file_extension": ".py",
   "mimetype": "text/x-python",
   "name": "python",
   "nbconvert_exporter": "python",
   "pygments_lexer": "ipython3",
   "version": "3.8.10"
  }
 },
 "nbformat": 4,
 "nbformat_minor": 5
}
