{
 "cells": [
  {
   "cell_type": "code",
   "execution_count": 1,
   "id": "562b7aa6",
   "metadata": {},
   "outputs": [],
   "source": [
    "import torch\n",
    "import torch.nn as nn\n",
    "import torch.nn.functional as F\n",
    "import torch.optim as optim\n",
    "import numpy as np"
   ]
  },
  {
   "cell_type": "markdown",
   "id": "06e34a03",
   "metadata": {},
   "source": [
    "**Torch, Numpy stuff**"
   ]
  },
  {
   "cell_type": "code",
   "execution_count": 2,
   "id": "dc4dfcfa",
   "metadata": {},
   "outputs": [
    {
     "name": "stdout",
     "output_type": "stream",
     "text": [
      "cuda\n"
     ]
    }
   ],
   "source": [
    "if torch.cuda.is_available():\n",
    "    device = torch.device(\"cuda:0\")\n",
    "else:\n",
    "    device = torch.device(\"cpu\")\n",
    "\n",
    "print(device.type)\n",
    "\n",
    "# ---\n",
    "\n",
    "torch.manual_seed(42)\n",
    "np.random.seed(42)"
   ]
  },
  {
   "cell_type": "markdown",
   "id": "3ecdd4b0",
   "metadata": {},
   "source": [
    "---\n",
    "**Training Data**\n",
    "\n",
    "Demonstration data contains a list of **d** scenes:\n",
    "\n",
    "- ~~Each scene contains a list of trajectories of **p** people, where p is **not constant**~~\n",
    "- A trajectory is a list of **t** states, where t = 400\n",
    "- A state is a **s** = 4 dimensional variable\n",
    " - State = (d<sub>goal<sub>x</sub></sub>, d<sub>goal<sub>y</sub></sub>, v<sub>x</sub>, v<sub>y</sub>)\n",
    "    \n",
    "> Shape of data is (d, ~~p,~~ t, s) => (d, ~~p,~~ 400, 4)\n",
    "\n",
    "---\n",
    "\n",
    "Train, test, val split: 0.8, 0.01, 0.19"
   ]
  },
  {
   "cell_type": "code",
   "execution_count": 24,
   "id": "58f7e93f",
   "metadata": {},
   "outputs": [],
   "source": [
    "from sklearn.model_selection import train_test_split\n",
    "\n",
    "def data_from_demonstrations(obs_dims=[0,1], tar_dims=[2,3], path=\"../data/input/\"):\n",
    "    data = np.load(f\"{path}/states_processed.npy\")\n",
    "    X, Y = data[:,:,:,obs_dims], data[:,:,:,tar_dims]\n",
    "    return X, Y\n",
    "\n",
    "\n",
    "# for testing purposes\n",
    "def synthetic_data(n=10):\n",
    "    tlen = 400\n",
    "    X = np.zeros((n, tlen, 1))\n",
    "    Y = np.zeros((n, tlen, 1))\n",
    "    for i in range(n):\n",
    "        X[i] = np.random.uniform(0, 1, tlen).reshape(tlen, 1)\n",
    "        Y[i] = np.sin(X[i]*2*np.pi)/n + i/n\n",
    "    return X, Y\n",
    "\n",
    "#X, Y = data_from_demonstrations()\n",
    "X, Y = synthetic_data()\n",
    "\n",
    "X_train, X_rem, Y_train, Y_rem = train_test_split(X, Y, train_size=0.8)\n",
    "\n",
    "# 0.2 * 0.05 = 0.01 (test size in entire data)\n",
    "test_sz = 0.05\n",
    "X_val, X_test, Y_val, Y_test = train_test_split(X_rem, Y_rem, test_size=test_sz)"
   ]
  },
  {
   "cell_type": "code",
   "execution_count": 25,
   "id": "d4a3e993",
   "metadata": {},
   "outputs": [
    {
     "data": {
      "image/png": "[encoded data removed]",
      "text/plain": [
       "<Figure size 432x288 with 1 Axes>"
      ]
     },
     "metadata": {
      "needs_background": "light"
     },
     "output_type": "display_data"
    }
   ],
   "source": [
    "import matplotlib.pyplot as plt\n",
    "\n",
    "def plot_trajectories(X, Y):\n",
    "    d, t, s = X.shape\n",
    "    for i in range(d):\n",
    "        plt.plot(X[i], Y[i], \".\")\n",
    "\n",
    "\n",
    "plot_trajectories(X_train, Y_train)"
   ]
  },
  {
   "cell_type": "markdown",
   "id": "3b12bd6d",
   "metadata": {},
   "source": [
    "---\n",
    "**n <= n<sub>max</sub>** random number of random observations on a random trajectory"
   ]
  },
  {
   "cell_type": "code",
   "execution_count": 39,
   "id": "974c38a8",
   "metadata": {},
   "outputs": [],
   "source": [
    "n_max = 10\n",
    "\n",
    "def sample_training_batch():\n",
    "    d, t, s = X_train.shape\n",
    "    \n",
    "    rand_traj_ind = np.random.randint(0, d)\n",
    "    rand_traj = X_train[rand_traj_ind]\n",
    "    rand_out = Y_train[rand_traj_ind]\n",
    "\n",
    "    n = np.random.randint(1, n_max+1)\n",
    "    observation_indices = np.random.choice(np.arange(t), n+1, replace=False) # n+1: +1 is for sampling the target\n",
    "    # TODO: match these ind with frames\n",
    "    # TODO: frames to CNN\n",
    "    observations = np.stack((rand_traj[observation_indices[:-1], :], rand_out[observation_indices[:-1], :]), axis=-1)\n",
    "    targetX, targetY = rand_traj[observation_indices[-1], :], rand_out[observation_indices[-1], :]\n",
    "    \n",
    "    return observations, targetX, targetY"
   ]
  },
  {
   "cell_type": "markdown",
   "id": "239d15c4",
   "metadata": {},
   "source": [
    "---\n",
    "**Model**"
   ]
  },
  {
   "cell_type": "code",
   "execution_count": null,
   "id": "754c8ddc",
   "metadata": {},
   "outputs": [],
   "source": [
    "class CNP(nn.module):\n",
    "    def __init__(self, nof_channels):\n",
    "        super(CNP, self).__init__()\n",
    "        \n",
    "        self.cnn = nn.Sequential(\n",
    "            nn.Conv2d(in_channels=1, out_channels=6, kernel_size=5)\n",
    "            nn.MaxPool2d(2, 2)\n",
    "            nn.Conv2d(6, 16, 5)\n",
    "            nn"
   ]
  }
 ],
 "metadata": {
  "kernelspec": {
   "display_name": "Python 3",
   "language": "python",
   "name": "python3"
  },
  "language_info": {
   "codemirror_mode": {
    "name": "ipython",
    "version": 3
   },
   "file_extension": ".py",
   "mimetype": "text/x-python",
   "name": "python",
   "nbconvert_exporter": "python",
   "pygments_lexer": "ipython3",
   "version": "3.8.10"
  }
 },
 "nbformat": 4,
 "nbformat_minor": 5
}
