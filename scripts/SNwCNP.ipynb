{
 "cells": [
  {
   "cell_type": "code",
   "execution_count": null,
   "id": "562b7aa6",
   "metadata": {},
   "outputs": [],
   "source": [
    "import torch\n",
    "import torch.nn as nn\n",
    "import torch.nn.functional as F\n",
    "import torch.optim as optim\n",
    "import numpy as np"
   ]
  },
  {
   "cell_type": "markdown",
   "id": "06e34a03",
   "metadata": {},
   "source": [
    "**Torch, Numpy stuff**"
   ]
  },
  {
   "cell_type": "code",
   "execution_count": 3,
   "id": "dc4dfcfa",
   "metadata": {},
   "outputs": [
    {
     "name": "stdout",
     "output_type": "stream",
     "text": [
      "cuda\n"
     ]
    }
   ],
   "source": [
    "if torch.cuda.is_available():\n",
    "    device = torch.device(\"cuda:0\")\n",
    "else:\n",
    "    device = torch.device(\"cpu\")\n",
    "\n",
    "print(device.type)\n",
    "\n",
    "# ---\n",
    "\n",
    "torch.manual_seed(42)\n",
    "np.random.seed(42)"
   ]
  },
  {
   "cell_type": "markdown",
   "id": "3ecdd4b0",
   "metadata": {},
   "source": [
    "---\n",
    "**Training Data**\n",
    "\n",
    "Demonstration data contains a list of **d** scenes:\n",
    "\n",
    "- Each scene contains a list of trajectories of **p** people, where p is **not constant**\n",
    "- A trajectory is a list of **t** states, where t = 400\n",
    "- A state is a **s** = 4 dimensional variable\n",
    " - State = (d<sub>goal<sub>x</sub></sub>, d<sub>goal<sub>y</sub></sub>, v<sub>x</sub>, v<sub>y</sub>)\n",
    "    \n",
    "> Shape of data is (d, p, t, s) => (d, p, 400, 4)\n",
    "\n",
    "---\n",
    "\n",
    "Train, test, val split: 0.8, 0.01, 0.19"
   ]
  },
  {
   "cell_type": "code",
   "execution_count": null,
   "id": "58f7e93f",
   "metadata": {},
   "outputs": [],
   "source": [
    "from sklearn.model_selection import train_test_split\n",
    "\n",
    "def data_from_demonstrations(obs_dims=[0,1], tar_dims=[2,3], path=\"../data/input/\"):\n",
    "    data = np.load(f\"{path}/states_processed.npy\")\n",
    "    X, Y = data[:,:,:,obs_dims], data[:,:,:,tar_dims]\n",
    "    return X, Y\n",
    "\n",
    "\n",
    "# for testing purposes\n",
    "def synthetic_data():\n",
    "    X = np.random.uniform(0, 1, 400)\n",
    "    Y = np.sin(X*2*np.pi)\n",
    "    return X, Y\n",
    "\n",
    "#X, Y = data_from_demonstrations()\n",
    "X, Y = synthetic_data()\n",
    "\n",
    "X_train, X_rem, Y_train, Y_rem = train_test_split(X, Y, train_size=0.8)\n",
    "\n",
    "# 0.2 * 0.05 = 0.01 (test size in entire data)\n",
    "test_sz = 0.05\n",
    "X_val, X_test, Y_val, Y_test = train_test_split(X_rem, Y_rem, test_size=test_sz)\n",
    "\n",
    "\n",
    "\n",
    "def sample_training_batch():\n",
    "    pass"
   ]
  }
 ],
 "metadata": {
  "kernelspec": {
   "display_name": "Python 3",
   "language": "python",
   "name": "python3"
  },
  "language_info": {
   "codemirror_mode": {
    "name": "ipython",
    "version": 3
   },
   "file_extension": ".py",
   "mimetype": "text/x-python",
   "name": "python",
   "nbconvert_exporter": "python",
   "pygments_lexer": "ipython3",
   "version": "3.8.10"
  }
 },
 "nbformat": 4,
 "nbformat_minor": 5
}
