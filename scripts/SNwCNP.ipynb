{
 "cells": [
  {
   "cell_type": "code",
   "execution_count": 170,
   "id": "562b7aa6",
   "metadata": {},
   "outputs": [],
   "source": [
    "import torch\n",
    "import torch.nn as nn\n",
    "import torch.nn.functional as F\n",
    "import torch.distributions as D\n",
    "import torch.optim as optim\n",
    "import numpy as np"
   ]
  },
  {
   "cell_type": "markdown",
   "id": "06e34a03",
   "metadata": {},
   "source": [
    "**Torch, Numpy stuff**"
   ]
  },
  {
   "cell_type": "code",
   "execution_count": 171,
   "id": "dc4dfcfa",
   "metadata": {},
   "outputs": [
    {
     "name": "stdout",
     "output_type": "stream",
     "text": [
      "cpu\n"
     ]
    }
   ],
   "source": [
    "if False:#torch.cuda.is_available():\n",
    "    device = torch.device(\"cuda:0\")\n",
    "else:\n",
    "    device = torch.device(\"cpu\")\n",
    "\n",
    "print(device.type)\n",
    "\n",
    "# ---\n",
    "\n",
    "torch.manual_seed(42)\n",
    "np.random.seed(42)"
   ]
  },
  {
   "cell_type": "markdown",
   "id": "3ecdd4b0",
   "metadata": {},
   "source": [
    "---\n",
    "**Training Data**\n",
    "\n",
    "Demonstration data contains a list of **d** scenes:\n",
    "\n",
    "- ~~Each scene contains a list of trajectories of **p** people, where p is **not constant**~~\n",
    "- A trajectory is a list of **t** states, where t = 400\n",
    "- A state is a **s** = 4 dimensional variable\n",
    " - State = (d<sub>goal<sub>x</sub></sub>, d<sub>goal<sub>y</sub></sub>, v<sub>x</sub>, v<sub>y</sub>)\n",
    "    \n",
    "> Shape of data is (d, ~~p,~~ t, s) => (d, ~~p,~~ 400, 4)\n",
    "\n",
    "---\n",
    "\n",
    "Train, test, val split: 0.8, 0.01, 0.19"
   ]
  },
  {
   "cell_type": "code",
   "execution_count": 172,
   "id": "58f7e93f",
   "metadata": {},
   "outputs": [],
   "source": [
    "from sklearn.model_selection import train_test_split\n",
    "\n",
    "def data_from_demonstrations(obs_dims=[0,1], tar_dims=[2,3], path=\"../data/input/\"):\n",
    "    data = np.load(f\"{path}/states_processed.npy\")\n",
    "    X, Y = data[:,:,:,obs_dims], data[:,:,:,tar_dims]\n",
    "    return X, Y\n",
    "\n",
    "\n",
    "# for testing purposes\n",
    "def synthetic_data(n=10):\n",
    "    tlen = 400\n",
    "    X = np.zeros((n, tlen, 1))\n",
    "    Y = np.zeros((n, tlen, 1))\n",
    "    for i in range(n):\n",
    "        X[i] = np.random.uniform(0, 1, tlen).reshape(tlen, 1)\n",
    "        Y[i] = np.sin(X[i]*2*np.pi)/n + i/n\n",
    "    return X, Y\n",
    "\n",
    "#X, Y = data_from_demonstrations()\n",
    "X, Y = synthetic_data()\n",
    "\n",
    "X_train, X_rem, Y_train, Y_rem = train_test_split(X, Y, train_size=0.8)\n",
    "\n",
    "# 0.2 * 0.05 = 0.01 (test size in entire data)\n",
    "test_sz = 0.05\n",
    "X_val, X_test, Y_val, Y_test = train_test_split(X_rem, Y_rem, test_size=test_sz)"
   ]
  },
  {
   "cell_type": "code",
   "execution_count": 173,
   "id": "8af99720",
   "metadata": {
    "scrolled": true
   },
   "outputs": [
    {
     "data": {
      "image/png": "[encoded data removed]",
      "text/plain": [
       "<Figure size 432x288 with 1 Axes>"
      ]
     },
     "metadata": {
      "needs_background": "light"
     },
     "output_type": "display_data"
    }
   ],
   "source": [
    "import matplotlib.pyplot as plt\n",
    "\n",
    "def plot_trajectories(X, Y):\n",
    "    d, t, s = X.shape\n",
    "    for i in range(d):\n",
    "        plt.plot(X[i], Y[i], \".\")\n",
    "\n",
    "\n",
    "plot_trajectories(X_train, Y_train)"
   ]
  },
  {
   "cell_type": "markdown",
   "id": "60e9fc4f",
   "metadata": {},
   "source": [
    "---\n",
    "\n",
    "### Preparing the data\n",
    "\n",
    "**n <= n<sub>max</sub>** random number of random observations on a random trajectory"
   ]
  },
  {
   "cell_type": "markdown",
   "id": "50753d69",
   "metadata": {},
   "source": [
    "**get image**"
   ]
  },
  {
   "cell_type": "code",
   "execution_count": 174,
   "id": "6dca7722",
   "metadata": {},
   "outputs": [],
   "source": [
    "from PIL import Image\n",
    "import torchvision.transforms as T\n",
    "\n",
    "def get_frames(path, demonstration_id, observation_ids):\n",
    "    frames_path = f'{path}{demonstration_id}/'\n",
    "    # transform = T.Compose([T.CenterCrop(256), T.Resize(128), T.Grayscale(), T.ToTensor()])\n",
    "#     images = torch.stack((transform(Image.open('svn_.jpg')), \n",
    "#                           transform(Image.open('svn.jpg'))),  dim=0)\n",
    "\n",
    "    transform = T.Compose([T.ToTensor()])\n",
    "\n",
    "    frames = transform(Image.open(f\"{frames_path}{observation_ids[0]}.jpg\"))\n",
    "\n",
    "    for i in observation_ids[1:]:\n",
    "        frames = torch.stack((images, transform(Image.open(f\"{frames_path}{observation_ids[i]}.jpg\"))), dim=0)\n",
    "    print(frames.shape)\n",
    "    return frames"
   ]
  },
  {
   "cell_type": "code",
   "execution_count": 175,
   "id": "974c38a8",
   "metadata": {},
   "outputs": [],
   "source": [
    "n_max = 10\n",
    "d_size = 10000  # nof demonstrations\n",
    "t_size = 400  # length of trajectories\n",
    "path=\"../data/processed/input/\"\n",
    "\n",
    "def sample_training_demonstration():\n",
    "#     d, t, s = X_train.shape\n",
    "    \n",
    "    rand_traj_ind = np.random.randint(0, d_size)\n",
    "    n = np.random.randint(1, n_max+1)\n",
    "#    rand_traj = X_train[rand_traj_ind]\n",
    "#     rand_out = Y_train[rand_traj_ind]\n",
    "\n",
    "    rand_traj = np.load(f\"{path}{rand_traj_ind}.npy\")\n",
    "\n",
    "    observation_indices = np.random.choice(np.arange(t_size), n+1, replace=False) # n+1: +1 is for sampling the target\n",
    "    \n",
    "    frames = get_frames(path, rand_traj_ind, observation_indices)\n",
    "    \n",
    "    observations = torch.from_numpy(rand_traj[observation_indices[:-1], :])\n",
    "    targetX = torch.from_numpy(rand_traj[observation_indices[-1], 0:2])\n",
    "    targetY = torch.from_numpy(rand_out[observation_indices[-1], 2:])\n",
    "    \n",
    "    return frames, observations, targetX, targetY"
   ]
  },
  {
   "cell_type": "markdown",
   "id": "3a659c05",
   "metadata": {},
   "source": [
    "---\n",
    "### Model"
   ]
  },
  {
   "cell_type": "code",
   "execution_count": 176,
   "id": "d1c092b5",
   "metadata": {},
   "outputs": [],
   "source": [
    "class CNP(nn.Module):\n",
    "    def __init__(self):\n",
    "        super(CNP, self).__init__()\n",
    "        \n",
    "        self.cnn = nn.Sequential(\n",
    "            nn.Conv2d(1, 4, 5),\n",
    "            nn.ReLU(),\n",
    "            nn.MaxPool2d(2, 2),\n",
    "            nn.Conv2d(4, 8, 5),\n",
    "            nn.ReLU(),\n",
    "            nn.MaxPool2d(2, 2),\n",
    "            nn.Conv2d(8, 16, 5),\n",
    "            nn.ReLU(),\n",
    "            nn.MaxPool2d(2, 2),\n",
    "            nn.Conv2d(16, 32, 5),\n",
    "            nn.ReLU(),\n",
    "            nn.MaxPool2d(2, 2)\n",
    "        )\n",
    "        \n",
    "        self.encoder = nn.Sequential(\n",
    "            nn.Linear(4+32*4*4,1024),\n",
    "            nn.ReLU(),\n",
    "            nn.Linear(1024,1024),\n",
    "            nn.ReLU(),\n",
    "            nn.Linear(1024,1024)\n",
    "        )\n",
    "        \n",
    "        self.query = nn.Sequential(\n",
    "            nn.Linear(1024+2,1024),\n",
    "            nn.ReLU(),\n",
    "            nn.Linear(1024,512),\n",
    "            nn.ReLU(),\n",
    "            nn.Linear(512,256),\n",
    "            nn.ReLU(),\n",
    "            nn.Linear(256,2*2)\n",
    "        )\n",
    "\n",
    "    def forward(self, frames, observations, target):\n",
    "        # n < n_max frames of a scene along with momentary observations are concatenated to constitute input\n",
    "        scene_encodings = torch.flatten(self.cnn(frames))\n",
    "        scene_encodings = self.cnn(frames).view(frames.shape[0], 32*4*4)\n",
    "        encoder_in = torch.cat((observations, scene_encodings), 1)\n",
    "        r = self.encoder(encoder_in)\n",
    "        \n",
    "        r_avg = torch.mean(r, dim=0)\n",
    "        r_avgs = r_avg.repeat(target.shape[0], 1)  # repeating the same r_avg for each target\n",
    "        \n",
    "        r_avg_target = torch.cat((r_avgs, target), 1)\n",
    "        query_out = self.query(r_avg_target)\n",
    "        \n",
    "        return query_out\n",
    "\n",
    "    \n",
    "def log_prob_loss(output, target):\n",
    "    mean, sigma = output.chunk(2, dim = -1)\n",
    "    sigma = F.softplus(sigma)\n",
    "    dist = D.Independent(D.Normal(loc=mean, scale=sigma), 1)\n",
    "    return -torch.mean(dist.log_prob(target))"
   ]
  },
  {
   "cell_type": "code",
   "execution_count": 177,
   "id": "620296c3",
   "metadata": {},
   "outputs": [
    {
     "ename": "FileNotFoundError",
     "evalue": "[Errno 2] No such file or directory: '../data/processed/input/9379.npy'",
     "output_type": "error",
     "traceback": [
      "\u001b[0;31m---------------------------------------------------------------------------\u001b[0m",
      "\u001b[0;31mFileNotFoundError\u001b[0m                         Traceback (most recent call last)",
      "\u001b[0;32m<ipython-input-177-eb57752602e0>\u001b[0m in \u001b[0;36m<module>\u001b[0;34m\u001b[0m\n\u001b[1;32m      6\u001b[0m \u001b[0mepoch\u001b[0m \u001b[0;34m=\u001b[0m \u001b[0;36m1000\u001b[0m\u001b[0;34m\u001b[0m\u001b[0;34m\u001b[0m\u001b[0m\n\u001b[1;32m      7\u001b[0m \u001b[0;32mfor\u001b[0m \u001b[0mi\u001b[0m \u001b[0;32min\u001b[0m \u001b[0mrange\u001b[0m\u001b[0;34m(\u001b[0m\u001b[0mepoch\u001b[0m\u001b[0;34m)\u001b[0m\u001b[0;34m:\u001b[0m\u001b[0;34m\u001b[0m\u001b[0;34m\u001b[0m\u001b[0m\n\u001b[0;32m----> 8\u001b[0;31m     \u001b[0mfs\u001b[0m\u001b[0;34m,\u001b[0m \u001b[0mobss\u001b[0m\u001b[0;34m,\u001b[0m \u001b[0mtx\u001b[0m\u001b[0;34m,\u001b[0m \u001b[0mty\u001b[0m \u001b[0;34m=\u001b[0m \u001b[0msample_training_demonstration\u001b[0m\u001b[0;34m(\u001b[0m\u001b[0;34m)\u001b[0m\u001b[0;34m\u001b[0m\u001b[0;34m\u001b[0m\u001b[0m\n\u001b[0m\u001b[1;32m      9\u001b[0m \u001b[0;34m\u001b[0m\u001b[0m\n\u001b[1;32m     10\u001b[0m     \u001b[0moptimizer\u001b[0m\u001b[0;34m.\u001b[0m\u001b[0mzero_grad\u001b[0m\u001b[0;34m(\u001b[0m\u001b[0;34m)\u001b[0m\u001b[0;34m\u001b[0m\u001b[0;34m\u001b[0m\u001b[0m\n",
      "\u001b[0;32m<ipython-input-175-06f483ac1435>\u001b[0m in \u001b[0;36msample_training_demonstration\u001b[0;34m()\u001b[0m\n\u001b[1;32m     12\u001b[0m \u001b[0;31m#     rand_out = Y_train[rand_traj_ind]\u001b[0m\u001b[0;34m\u001b[0m\u001b[0;34m\u001b[0m\u001b[0;34m\u001b[0m\u001b[0m\n\u001b[1;32m     13\u001b[0m \u001b[0;34m\u001b[0m\u001b[0m\n\u001b[0;32m---> 14\u001b[0;31m     \u001b[0mrand_traj\u001b[0m \u001b[0;34m=\u001b[0m \u001b[0mnp\u001b[0m\u001b[0;34m.\u001b[0m\u001b[0mload\u001b[0m\u001b[0;34m(\u001b[0m\u001b[0;34mf\"{path}{rand_traj_ind}.npy\"\u001b[0m\u001b[0;34m)\u001b[0m\u001b[0;34m\u001b[0m\u001b[0;34m\u001b[0m\u001b[0m\n\u001b[0m\u001b[1;32m     15\u001b[0m \u001b[0;34m\u001b[0m\u001b[0m\n\u001b[1;32m     16\u001b[0m     \u001b[0mobservation_indices\u001b[0m \u001b[0;34m=\u001b[0m \u001b[0mnp\u001b[0m\u001b[0;34m.\u001b[0m\u001b[0mrandom\u001b[0m\u001b[0;34m.\u001b[0m\u001b[0mchoice\u001b[0m\u001b[0;34m(\u001b[0m\u001b[0mnp\u001b[0m\u001b[0;34m.\u001b[0m\u001b[0marange\u001b[0m\u001b[0;34m(\u001b[0m\u001b[0mt_size\u001b[0m\u001b[0;34m)\u001b[0m\u001b[0;34m,\u001b[0m \u001b[0mn\u001b[0m\u001b[0;34m+\u001b[0m\u001b[0;36m1\u001b[0m\u001b[0;34m,\u001b[0m \u001b[0mreplace\u001b[0m\u001b[0;34m=\u001b[0m\u001b[0;32mFalse\u001b[0m\u001b[0;34m)\u001b[0m \u001b[0;31m# n+1: +1 is for sampling the target\u001b[0m\u001b[0;34m\u001b[0m\u001b[0;34m\u001b[0m\u001b[0m\n",
      "\u001b[0;32m~/.local/lib/python3.8/site-packages/numpy/lib/npyio.py\u001b[0m in \u001b[0;36mload\u001b[0;34m(file, mmap_mode, allow_pickle, fix_imports, encoding)\u001b[0m\n\u001b[1;32m    414\u001b[0m             \u001b[0mown_fid\u001b[0m \u001b[0;34m=\u001b[0m \u001b[0;32mFalse\u001b[0m\u001b[0;34m\u001b[0m\u001b[0;34m\u001b[0m\u001b[0m\n\u001b[1;32m    415\u001b[0m         \u001b[0;32melse\u001b[0m\u001b[0;34m:\u001b[0m\u001b[0;34m\u001b[0m\u001b[0;34m\u001b[0m\u001b[0m\n\u001b[0;32m--> 416\u001b[0;31m             \u001b[0mfid\u001b[0m \u001b[0;34m=\u001b[0m \u001b[0mstack\u001b[0m\u001b[0;34m.\u001b[0m\u001b[0menter_context\u001b[0m\u001b[0;34m(\u001b[0m\u001b[0mopen\u001b[0m\u001b[0;34m(\u001b[0m\u001b[0mos_fspath\u001b[0m\u001b[0;34m(\u001b[0m\u001b[0mfile\u001b[0m\u001b[0;34m)\u001b[0m\u001b[0;34m,\u001b[0m \u001b[0;34m\"rb\"\u001b[0m\u001b[0;34m)\u001b[0m\u001b[0;34m)\u001b[0m\u001b[0;34m\u001b[0m\u001b[0;34m\u001b[0m\u001b[0m\n\u001b[0m\u001b[1;32m    417\u001b[0m             \u001b[0mown_fid\u001b[0m \u001b[0;34m=\u001b[0m \u001b[0;32mTrue\u001b[0m\u001b[0;34m\u001b[0m\u001b[0;34m\u001b[0m\u001b[0m\n\u001b[1;32m    418\u001b[0m \u001b[0;34m\u001b[0m\u001b[0m\n",
      "\u001b[0;31mFileNotFoundError\u001b[0m: [Errno 2] No such file or directory: '../data/processed/input/9379.npy'"
     ]
    }
   ],
   "source": [
    "model = CNP()\n",
    "model.to(device)\n",
    "\n",
    "optimizer = torch.optim.Adam(lr=1e-3, params=model.parameters(), betas=(0.9, 0.999), amsgrad=True)\n",
    "\n",
    "epoch = 1000\n",
    "for i in range(epoch):\n",
    "    fs, obss, tx, ty = sample_training_demonstration()\n",
    "    \n",
    "    optimizer.zero_grad()\n",
    "    ty_pred = model(fs, obss, tx)\n",
    "    loss = log_prob_loss(ty, ty_pred)\n",
    "    \n",
    "    loss.backward()\n",
    "    optimizer.step()\n",
    "    \n",
    "    print(loss)\n",
    "    \n",
    "#     enc = model(images, torch.rand(2, 4), torch.rand(2, 2))\n",
    "#     print(enc.shape)"
   ]
  },
  {
   "cell_type": "code",
   "execution_count": null,
   "id": "187c66e3",
   "metadata": {},
   "outputs": [],
   "source": []
  }
 ],
 "metadata": {
  "kernelspec": {
   "display_name": "Python 3",
   "language": "python",
   "name": "python3"
  },
  "language_info": {
   "codemirror_mode": {
    "name": "ipython",
    "version": 3
   },
   "file_extension": ".py",
   "mimetype": "text/x-python",
   "name": "python",
   "nbconvert_exporter": "python",
   "pygments_lexer": "ipython3",
   "version": "3.8.10"
  }
 },
 "nbformat": 4,
 "nbformat_minor": 5
}
