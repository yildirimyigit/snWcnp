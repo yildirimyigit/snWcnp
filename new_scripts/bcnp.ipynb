{
 "cells": [
  {
   "cell_type": "code",
   "execution_count": 39,
   "id": "a7ad5b53",
   "metadata": {},
   "outputs": [],
   "source": [
    "import torch\n",
    "import torch.nn as nn\n",
    "import torch.nn.functional as F\n",
    "import torch.distributions as D\n",
    "import torch.optim as optim\n",
    "import numpy as np\n",
    "import matplotlib.pyplot as plt"
   ]
  },
  {
   "cell_type": "code",
   "execution_count": 40,
   "id": "bd343511",
   "metadata": {},
   "outputs": [
    {
     "name": "stdout",
     "output_type": "stream",
     "text": [
      "cuda\n"
     ]
    }
   ],
   "source": [
    "if torch.cuda.is_available():\n",
    "    device = torch.device(\"cuda:0\")\n",
    "else:\n",
    "    device = torch.device(\"cpu\")\n",
    "\n",
    "print(device.type)\n",
    "\n",
    "# ---\n",
    "\n",
    "torch.manual_seed(42)\n",
    "np.random.seed(42)"
   ]
  },
  {
   "cell_type": "code",
   "execution_count": 71,
   "id": "514d5f18",
   "metadata": {},
   "outputs": [
    {
     "name": "stdout",
     "output_type": "stream",
     "text": [
      "torch.Size([100, 200, 1]) torch.Size([100, 200, 1])\n"
     ]
    }
   ],
   "source": [
    "t_steps = 200\n",
    "num_demos = 100\n",
    "dx, dy = 1, 1\n",
    "x = torch.linspace(0, 1, t_steps).repeat(int(num_demos/2), 1)\n",
    "\n",
    "noise = torch.clamp(torch.randn(x.shape)*1e-4**0.5, min=0)\n",
    "y0 = torch.unsqueeze(torch.sin(x*torch.pi) + noise, 2)\n",
    "\n",
    "y1 = 1-y0\n",
    "\n",
    "x = torch.unsqueeze(x.repeat(2,1), 2)\n",
    "y = torch.cat((y0, y1), 0)\n",
    "print(x.shape, y.shape)"
   ]
  },
  {
   "cell_type": "code",
   "execution_count": 72,
   "id": "28a2865b",
   "metadata": {},
   "outputs": [
    {
     "data": {
      "image/png": "[encoded data removed]",
      "text/plain": [
       "<Figure size 432x288 with 1 Axes>"
      ]
     },
     "metadata": {
      "needs_background": "light"
     },
     "output_type": "display_data"
    }
   ],
   "source": [
    "plt.plot(x[:50, :, 0], y[:50, :, 0], 'b', alpha=0.3)\n",
    "plt.plot(x[51:, :, 0], y[51:, :, 0], 'r', alpha=0.3)\n",
    "plt.show()"
   ]
  },
  {
   "cell_type": "code",
   "execution_count": 64,
   "id": "b11b723b",
   "metadata": {},
   "outputs": [],
   "source": [
    "n_max = 6\n",
    "\n",
    "def sample_training_demonstration():    \n",
    "    rand_traj_ind = np.random.randint(0, num_demos)\n",
    "    n = np.random.randint(1, n_max+1)\n",
    "\n",
    "    rand_traj = y[rand_traj_ind, :, :]\n",
    "\n",
    "    observation_indices = np.random.choice(np.arange(t_steps), n+1, replace=False) # n+1: +1 is for sampling the target\n",
    "    \n",
    "    observations = torch.cat((rand_traj[observation_indices[:-1], :], \n",
    "                              x[rand_traj_ind, observation_indices[:-1], :]), 1)\n",
    "    targetX = torch.Tensor(x[rand_traj_ind, observation_indices[-1], :])\n",
    "    targetY = torch.Tensor(rand_traj[observation_indices[-1], :])\n",
    "    \n",
    "    if device.type == 'cuda':\n",
    "        return observations.float().cuda(), targetX.float().cuda(), targetY.float().cuda()\n",
    "    else:\n",
    "        return observations.float(), targetX.float(), targetY.float()\n",
    "    \n",
    "    \n",
    "aadsada = sample_training_demonstration()"
   ]
  },
  {
   "cell_type": "code",
   "execution_count": 67,
   "id": "334b714b",
   "metadata": {},
   "outputs": [],
   "source": [
    "class BCNP(nn.Module):\n",
    "    def __init__(self, in_shape):\n",
    "        super(BCNP, self).__init__()\n",
    "        \n",
    "        dx, dy = in_shape[0], in_shape[1]\n",
    "        \n",
    "        dz = 128\n",
    "        dzt = dz+dx\n",
    "        \n",
    "        self.encoder = nn.Sequential(\n",
    "            nn.Linear(dx+dy, 128),\n",
    "            nn.ReLU(),\n",
    "            nn.Linear(128, 128),\n",
    "            nn.ReLU(),\n",
    "            nn.Linear(128, dz)\n",
    "        )\n",
    "        \n",
    "        self.f0 = nn.Sequential(\n",
    "            nn.Linear(dzt, 128),\n",
    "            nn.ReLU(),\n",
    "            nn.Linear(128, 128),\n",
    "            nn.ReLU(),\n",
    "            nn.Linear(128, dy*2)\n",
    "        )\n",
    "\n",
    "        self.f1 = nn.Sequential(\n",
    "            nn.Linear(dzt, 128),\n",
    "            nn.ReLU(),\n",
    "            nn.Linear(128, 128),\n",
    "            nn.ReLU(),\n",
    "            nn.Linear(128, dy*2)\n",
    "        )\n",
    "\n",
    "#         self.f2 = nn.Sequential(\n",
    "#             nn.Linear(dzt, 128),\n",
    "#             nn.ReLU(),\n",
    "#             nn.Linear(128, 128),\n",
    "#             nn.ReLU(),\n",
    "#             nn.Linear(128, dy*2)\n",
    "#         )\n",
    "        \n",
    "#         self.lin0 = nn.Linear(dz+dy*2, dy)\n",
    "#         self.lin1 = nn.Linear(dz+dy*2, dy)\n",
    "#         self.lin2 = nn.Linear(dz+dy*2, dy)\n",
    "\n",
    "    def forward(self, observations, target):\n",
    "        z_out = self.encoder(observations)\n",
    "        z = torch.mean(z_out, dim=0)\n",
    "        \n",
    "        zs = z.repeat(target.shape[0], 1).to(device)  # repeating the same z for each target\n",
    "        print(\"tes\")\n",
    "        print(z.shape)\n",
    "        print(zs.shape)\n",
    "        z_target = torch.cat((zs, target), 1)\n",
    "        \n",
    "        print(z_target.shape)\n",
    "        \n",
    "        m0, sig0 = self.f0(z_target)\n",
    "        m1, sig1 = self.f1(z_target)\n",
    "        m2, sig2 = self.f2(z_target)\n",
    "        \n",
    "#         fzs = z.repeat(3, 1).to(device)  # 3 decoders (f)\n",
    "        \n",
    "        out0 = self.lin0(torch.cat((z, m0, sig0), 1))\n",
    "        out1 = self.lin1(torch.cat((z, m1, sig1), 1))\n",
    "        out2 = self.lin2(torch.cat((z, m2, sig2), 1))\n",
    "        \n",
    "        return out0, out1, out2\n",
    "        \n",
    "#         sig0, sig1, sig2 = F.softplus(sig0), F.softplus(sig1), F.softplus(sig2)\n",
    "#         dist0 = D.Independent(D.Normal(loc=m0, scale=sig0), 1)\n",
    "#         dist1 = D.Independent(D.Normal(loc=m1, scale=sig1), 1)\n",
    "#         dist2 = D.Independent(D.Normal(loc=m2, scale=sig2), 1)\n",
    "        \n",
    "#         p0, p1, p2 = torch.mean(dist0.log_prob(target)), torch.mean(dist1.log_prob(target)), torch.mean(dist2.log_prob(target))"
   ]
  },
  {
   "cell_type": "code",
   "execution_count": 68,
   "id": "3f19026e",
   "metadata": {},
   "outputs": [
    {
     "name": "stdout",
     "output_type": "stream",
     "text": [
      "torch.Size([128])\n",
      "torch.Size([1, 128])\n"
     ]
    },
    {
     "ename": "RuntimeError",
     "evalue": "Tensors must have same number of dimensions: got 2 and 1",
     "output_type": "error",
     "traceback": [
      "\u001b[0;31m---------------------------------------------------------------------------\u001b[0m",
      "\u001b[0;31mRuntimeError\u001b[0m                              Traceback (most recent call last)",
      "Input \u001b[0;32mIn [68]\u001b[0m, in \u001b[0;36m<cell line: 13>\u001b[0;34m()\u001b[0m\n\u001b[1;32m     14\u001b[0m obss, tx, ty \u001b[38;5;241m=\u001b[39m sample_training_demonstration()\n\u001b[1;32m     16\u001b[0m optimizer\u001b[38;5;241m.\u001b[39mzero_grad()\n\u001b[0;32m---> 17\u001b[0m ty_preds \u001b[38;5;241m=\u001b[39m \u001b[43mmodel\u001b[49m\u001b[43m(\u001b[49m\u001b[43mobss\u001b[49m\u001b[43m,\u001b[49m\u001b[43m \u001b[49m\u001b[43mtx\u001b[49m\u001b[43m)\u001b[49m\n\u001b[1;32m     18\u001b[0m loss0 \u001b[38;5;241m=\u001b[39m mse(ty, ty_pred[\u001b[38;5;241m0\u001b[39m]\u001b[38;5;241m.\u001b[39mdetach())\n\u001b[1;32m     19\u001b[0m loss1 \u001b[38;5;241m=\u001b[39m mse(ty, ty_pred[\u001b[38;5;241m1\u001b[39m]\u001b[38;5;241m.\u001b[39mdetach())\n",
      "File \u001b[0;32m~/.local/lib/python3.8/site-packages/torch/nn/modules/module.py:1110\u001b[0m, in \u001b[0;36mModule._call_impl\u001b[0;34m(self, *input, **kwargs)\u001b[0m\n\u001b[1;32m   1106\u001b[0m \u001b[38;5;66;03m# If we don't have any hooks, we want to skip the rest of the logic in\u001b[39;00m\n\u001b[1;32m   1107\u001b[0m \u001b[38;5;66;03m# this function, and just call forward.\u001b[39;00m\n\u001b[1;32m   1108\u001b[0m \u001b[38;5;28;01mif\u001b[39;00m \u001b[38;5;129;01mnot\u001b[39;00m (\u001b[38;5;28mself\u001b[39m\u001b[38;5;241m.\u001b[39m_backward_hooks \u001b[38;5;129;01mor\u001b[39;00m \u001b[38;5;28mself\u001b[39m\u001b[38;5;241m.\u001b[39m_forward_hooks \u001b[38;5;129;01mor\u001b[39;00m \u001b[38;5;28mself\u001b[39m\u001b[38;5;241m.\u001b[39m_forward_pre_hooks \u001b[38;5;129;01mor\u001b[39;00m _global_backward_hooks\n\u001b[1;32m   1109\u001b[0m         \u001b[38;5;129;01mor\u001b[39;00m _global_forward_hooks \u001b[38;5;129;01mor\u001b[39;00m _global_forward_pre_hooks):\n\u001b[0;32m-> 1110\u001b[0m     \u001b[38;5;28;01mreturn\u001b[39;00m \u001b[43mforward_call\u001b[49m\u001b[43m(\u001b[49m\u001b[38;5;241;43m*\u001b[39;49m\u001b[38;5;28;43minput\u001b[39;49m\u001b[43m,\u001b[49m\u001b[43m \u001b[49m\u001b[38;5;241;43m*\u001b[39;49m\u001b[38;5;241;43m*\u001b[39;49m\u001b[43mkwargs\u001b[49m\u001b[43m)\u001b[49m\n\u001b[1;32m   1111\u001b[0m \u001b[38;5;66;03m# Do not call functions when jit is used\u001b[39;00m\n\u001b[1;32m   1112\u001b[0m full_backward_hooks, non_full_backward_hooks \u001b[38;5;241m=\u001b[39m [], []\n",
      "Input \u001b[0;32mIn [67]\u001b[0m, in \u001b[0;36mBCNP.forward\u001b[0;34m(self, observations, target)\u001b[0m\n\u001b[1;32m     51\u001b[0m \u001b[38;5;28mprint\u001b[39m(z\u001b[38;5;241m.\u001b[39mshape)\n\u001b[1;32m     52\u001b[0m \u001b[38;5;28mprint\u001b[39m(zs\u001b[38;5;241m.\u001b[39mshape)\n\u001b[0;32m---> 53\u001b[0m z_target \u001b[38;5;241m=\u001b[39m \u001b[43mtorch\u001b[49m\u001b[38;5;241;43m.\u001b[39;49m\u001b[43mcat\u001b[49m\u001b[43m(\u001b[49m\u001b[43m(\u001b[49m\u001b[43mzs\u001b[49m\u001b[43m,\u001b[49m\u001b[43m \u001b[49m\u001b[43mtarget\u001b[49m\u001b[43m)\u001b[49m\u001b[43m,\u001b[49m\u001b[43m \u001b[49m\u001b[38;5;241;43m1\u001b[39;49m\u001b[43m)\u001b[49m\n\u001b[1;32m     55\u001b[0m \u001b[38;5;28mprint\u001b[39m(z_target\u001b[38;5;241m.\u001b[39mshape)\n\u001b[1;32m     57\u001b[0m m0, sig0 \u001b[38;5;241m=\u001b[39m \u001b[38;5;28mself\u001b[39m\u001b[38;5;241m.\u001b[39mf0(z_target)\n",
      "\u001b[0;31mRuntimeError\u001b[0m: Tensors must have same number of dimensions: got 2 and 1"
     ]
    }
   ],
   "source": [
    "model = BCNP((1, 1))\n",
    "model.to(device)\n",
    "\n",
    "optimizer = torch.optim.Adam(lr=1e-4, params=model.parameters(), betas=(0.9, 0.999), amsgrad=True)\n",
    "\n",
    "val_after_epoch = 2500\n",
    "epoch = 1\n",
    "\n",
    "losses = np.zeros(int(epoch/val_after_epoch))\n",
    "min_loss = 1e6\n",
    "mse = nn.MSELoss()\n",
    "\n",
    "for i in range(epoch):\n",
    "    obss, tx, ty = sample_training_demonstration()\n",
    "    \n",
    "    optimizer.zero_grad()\n",
    "    ty_preds = model(obss, tx)\n",
    "    loss0 = mse(ty, ty_pred[0].detach())\n",
    "    loss1 = mse(ty, ty_pred[1].detach())\n",
    "    loss2 = mse(ty, ty_pred[2].detach())\n",
    "    \n",
    "    print(loss0, loss1, loss2)\n",
    "    \n",
    "    loss.backward()\n",
    "    optimizer.step()\n",
    "    \n",
    "    print(i, end=\"\\r\")\n",
    "    if i%val_after_epoch == 0:\n",
    "        val_loss = validate()\n",
    "        print(f\"{i}: {val_loss}\")\n",
    "    \n",
    "        if val_loss < min_loss:\n",
    "            min_loss = val_loss\n",
    "            torch.save(model.state_dict(), f'{path}../../best_model.pt')"
   ]
  },
  {
   "cell_type": "code",
   "execution_count": null,
   "id": "b4371c51",
   "metadata": {},
   "outputs": [],
   "source": []
  }
 ],
 "metadata": {
  "kernelspec": {
   "display_name": "Python 3 (ipykernel)",
   "language": "python",
   "name": "python3"
  },
  "language_info": {
   "codemirror_mode": {
    "name": "ipython",
    "version": 3
   },
   "file_extension": ".py",
   "mimetype": "text/x-python",
   "name": "python",
   "nbconvert_exporter": "python",
   "pygments_lexer": "ipython3",
   "version": "3.8.10"
  }
 },
 "nbformat": 4,
 "nbformat_minor": 5
}
