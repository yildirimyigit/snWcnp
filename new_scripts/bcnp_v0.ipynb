{
 "cells": [
  {
   "cell_type": "code",
   "execution_count": 1,
   "id": "a7ad5b53",
   "metadata": {},
   "outputs": [],
   "source": [
    "import torch\n",
    "import torch.nn as nn\n",
    "import torch.nn.functional as F\n",
    "import torch.distributions as D\n",
    "import torch.optim as optim\n",
    "import numpy as np\n",
    "import matplotlib.pyplot as plt"
   ]
  },
  {
   "cell_type": "code",
   "execution_count": 2,
   "id": "bd343511",
   "metadata": {},
   "outputs": [
    {
     "name": "stdout",
     "output_type": "stream",
     "text": [
      "cuda\n"
     ]
    }
   ],
   "source": [
    "if torch.cuda.is_available():\n",
    "    device = torch.device(\"cuda:0\")\n",
    "else:\n",
    "    device = torch.device(\"cpu\")\n",
    "\n",
    "print(device.type)\n",
    "\n",
    "# ---\n",
    "\n",
    "torch.manual_seed(42)\n",
    "np.random.seed(42)"
   ]
  },
  {
   "cell_type": "code",
   "execution_count": 3,
   "id": "514d5f18",
   "metadata": {},
   "outputs": [
    {
     "name": "stdout",
     "output_type": "stream",
     "text": [
      "X: torch.Size([100, 200, 1]) Y: torch.Size([100, 200, 1])\n"
     ]
    }
   ],
   "source": [
    "t_steps = 200\n",
    "num_demos = 100\n",
    "num_val = 20\n",
    "dx, dy = 1, 1\n",
    "x = torch.linspace(0, 1, t_steps).repeat(int(num_demos/2), 1)\n",
    "\n",
    "noise = torch.clamp(torch.randn(x.shape)*1e-4**0.5, min=0)\n",
    "y0 = torch.unsqueeze(torch.sin(x*torch.pi) + noise, 2)\n",
    "\n",
    "y1 = 1-y0\n",
    "\n",
    "x = torch.unsqueeze(x.repeat(2,1), 2)\n",
    "y = torch.cat((y0, y1), 0)\n",
    "print(\"X:\", x.shape, \"Y:\", y.shape)\n",
    "\n",
    "path = \".\"\n",
    "\n",
    "#######################################\n",
    "\n",
    "vx = torch.linspace(0, 1, t_steps).repeat(int(num_val/2), 1)\n",
    "vnoise = torch.clamp(torch.randn(vx.shape)*1e-4**0.5, min=0)\n",
    "vy0 = torch.unsqueeze(torch.sin(vx*torch.pi) + vnoise, 2)\n",
    "vy1 = 1-vy0\n",
    "\n",
    "vx = torch.unsqueeze(vx.repeat(2,1), 2)\n",
    "vy = torch.cat((vy0, vy1), 0)"
   ]
  },
  {
   "cell_type": "code",
   "execution_count": 4,
   "id": "28a2865b",
   "metadata": {},
   "outputs": [
    {
     "data": {
      "image/png": "[encoded data removed]",
      "text/plain": [
       "<Figure size 432x288 with 1 Axes>"
      ]
     },
     "metadata": {
      "needs_background": "light"
     },
     "output_type": "display_data"
    }
   ],
   "source": [
    "plt.plot(x[:50, :, 0], y[:50, :, 0], 'b', alpha=0.3)\n",
    "plt.plot(x[51:, :, 0], y[51:, :, 0], 'r', alpha=0.3)\n",
    "plt.show()"
   ]
  },
  {
   "cell_type": "code",
   "execution_count": 5,
   "id": "b11b723b",
   "metadata": {},
   "outputs": [],
   "source": [
    "n_max = 6\n",
    "\n",
    "def sample_training_demonstration():    \n",
    "    rand_traj_ind = np.random.randint(0, num_demos)\n",
    "    n = np.random.randint(1, n_max+1)\n",
    "\n",
    "    rand_traj = y[rand_traj_ind, :, :]\n",
    "\n",
    "    observation_indices = np.random.choice(np.arange(t_steps), n+1, replace=False) # n+1: +1 is for sampling the target\n",
    "    \n",
    "    observations = torch.cat((rand_traj[observation_indices[:-1], :], \n",
    "                              x[rand_traj_ind, observation_indices[:-1], :]), 1)\n",
    "    targetX = torch.unsqueeze(torch.Tensor(x[rand_traj_ind, observation_indices[-1], :]), 0)\n",
    "    targetY = torch.unsqueeze(torch.Tensor(rand_traj[observation_indices[-1], :]), 0)\n",
    "    \n",
    "    type_id = 0 if rand_traj_ind<num_demos/2 else 1\n",
    "    \n",
    "    if device.type == 'cuda':\n",
    "        return observations.float().cuda(), type_id, targetX.float().cuda(), targetY.float().cuda()\n",
    "    else:\n",
    "        return observations.float(), type_id, targetX.float(), targetY.float()\n",
    "\n",
    "\n",
    "def get_validation_demonstration(ind):\n",
    "    type_id = 0 if ind<num_val/2 else 1\n",
    "    x = vx[ind, :, :]\n",
    "    y = vy[ind, :, :]\n",
    "    \n",
    "    if device.type == 'cuda':\n",
    "        return x.float().cuda(), y.float().cuda(), type_id\n",
    "    else:\n",
    "        return x, y, type_id"
   ]
  },
  {
   "cell_type": "code",
   "execution_count": 6,
   "id": "334b714b",
   "metadata": {},
   "outputs": [],
   "source": [
    "class BCNP(nn.Module):\n",
    "    def __init__(self, in_shape):\n",
    "        super(BCNP, self).__init__()\n",
    "        \n",
    "        dx, dy = in_shape[0], in_shape[1]\n",
    "        \n",
    "        dz = 128\n",
    "        dzt = dz+dx\n",
    "        \n",
    "        self.encoder = nn.Sequential(\n",
    "            nn.Linear(dx+dy, 128),\n",
    "            nn.ReLU(),\n",
    "            nn.Linear(128, 128),\n",
    "            nn.ReLU(),\n",
    "            nn.Linear(128, dz)\n",
    "        )\n",
    "        \n",
    "        self.f0 = nn.Sequential(\n",
    "            nn.Linear(dzt, 128),\n",
    "            nn.ReLU(),\n",
    "            nn.Linear(128, 128),\n",
    "            nn.ReLU(),\n",
    "            nn.Linear(128, dy*2)\n",
    "        )\n",
    "\n",
    "        self.f1 = nn.Sequential(\n",
    "            nn.Linear(dzt, 128),\n",
    "            nn.ReLU(),\n",
    "            nn.Linear(128, 128),\n",
    "            nn.ReLU(),\n",
    "            nn.Linear(128, dy*2)\n",
    "        )\n",
    "        \n",
    "\n",
    "    def forward(self, observations, type_id, target):\n",
    "        z_out = self.encoder(observations)\n",
    "        z = torch.mean(z_out, dim=0)\n",
    "\n",
    "        zs = z.repeat(target.shape[0], 1).to(device)  # repeating the same z for each target\n",
    "        z_target = torch.cat((zs, target), 1)\n",
    "        \n",
    "        if type_id == 0:\n",
    "            return self.f0(z_target)\n",
    "        else:\n",
    "            return self.f1(z_target)\n",
    "\n",
    "\n",
    "def log_prob_loss(ty, ty_pred):\n",
    "    m, s = ty_pred.chunk(2, dim = -1)\n",
    "    s = F.softplus(s)\n",
    "    dist = D.Independent(D.Normal(loc=m, scale=s), 1)\n",
    "    return -torch.mean(dist.log_prob(ty))\n",
    "\n",
    "\n",
    "def validate():\n",
    "    verr=torch.zeros(num_val)\n",
    "    with torch.no_grad():\n",
    "        for i in range(num_val):\n",
    "            val_x, val_y, type_id = get_validation_demonstration(i)\n",
    "\n",
    "            cond_step = 0\n",
    "            observation = torch.Tensor([val_y[cond_step, :], val_x[cond_step, :]]).view(1, dx+dy).float().cuda()\n",
    "            \n",
    "            pred_traj = torch.zeros_like(val_y)\n",
    "            pred_traj[cond_step, :] = val_y[cond_step, :]\n",
    "\n",
    "            for t in range(1, t_steps):\n",
    "                pred = model(observation, type_id, torch.unsqueeze(val_x[t], 0))\n",
    "                pred_traj[t, :], _ = pred.chunk(2, dim = -1)  # pred[0]: mean, pred[1]: std\n",
    "\n",
    "            verr[i] = torch.sum((val_y - pred_traj) ** 2)\n",
    "    return torch.mean(verr)"
   ]
  },
  {
   "cell_type": "code",
   "execution_count": 7,
   "id": "3f19026e",
   "metadata": {},
   "outputs": [
    {
     "name": "stdout",
     "output_type": "stream",
     "text": [
      "112500: 0.020904188975691795\r"
     ]
    },
    {
     "ename": "KeyboardInterrupt",
     "evalue": "",
     "output_type": "error",
     "traceback": [
      "\u001b[0;31m---------------------------------------------------------------------------\u001b[0m",
      "\u001b[0;31mKeyboardInterrupt\u001b[0m                         Traceback (most recent call last)",
      "Input \u001b[0;32mIn [7]\u001b[0m, in \u001b[0;36m<cell line: 12>\u001b[0;34m()\u001b[0m\n\u001b[1;32m     24\u001b[0m     model\u001b[38;5;241m.\u001b[39mf1\u001b[38;5;241m.\u001b[39mrequires_grad \u001b[38;5;241m=\u001b[39m \u001b[38;5;28;01mTrue\u001b[39;00m\n\u001b[1;32m     26\u001b[0m loss\u001b[38;5;241m.\u001b[39mbackward()\n\u001b[0;32m---> 27\u001b[0m \u001b[43moptimizer\u001b[49m\u001b[38;5;241;43m.\u001b[39;49m\u001b[43mstep\u001b[49m\u001b[43m(\u001b[49m\u001b[43m)\u001b[49m\n\u001b[1;32m     29\u001b[0m \u001b[38;5;28;01mif\u001b[39;00m (i)\u001b[38;5;241m%\u001b[39mval_after_iter \u001b[38;5;241m==\u001b[39m \u001b[38;5;241m0\u001b[39m:\n\u001b[1;32m     30\u001b[0m     verr \u001b[38;5;241m=\u001b[39m validate()\n",
      "File \u001b[0;32m~/.local/lib/python3.8/site-packages/torch/optim/optimizer.py:88\u001b[0m, in \u001b[0;36mOptimizer._hook_for_profile.<locals>.profile_hook_step.<locals>.wrapper\u001b[0;34m(*args, **kwargs)\u001b[0m\n\u001b[1;32m     86\u001b[0m profile_name \u001b[38;5;241m=\u001b[39m \u001b[38;5;124m\"\u001b[39m\u001b[38;5;124mOptimizer.step#\u001b[39m\u001b[38;5;132;01m{}\u001b[39;00m\u001b[38;5;124m.step\u001b[39m\u001b[38;5;124m\"\u001b[39m\u001b[38;5;241m.\u001b[39mformat(obj\u001b[38;5;241m.\u001b[39m\u001b[38;5;18m__class__\u001b[39m\u001b[38;5;241m.\u001b[39m\u001b[38;5;18m__name__\u001b[39m)\n\u001b[1;32m     87\u001b[0m \u001b[38;5;28;01mwith\u001b[39;00m torch\u001b[38;5;241m.\u001b[39mautograd\u001b[38;5;241m.\u001b[39mprofiler\u001b[38;5;241m.\u001b[39mrecord_function(profile_name):\n\u001b[0;32m---> 88\u001b[0m     \u001b[38;5;28;01mreturn\u001b[39;00m \u001b[43mfunc\u001b[49m\u001b[43m(\u001b[49m\u001b[38;5;241;43m*\u001b[39;49m\u001b[43margs\u001b[49m\u001b[43m,\u001b[49m\u001b[43m \u001b[49m\u001b[38;5;241;43m*\u001b[39;49m\u001b[38;5;241;43m*\u001b[39;49m\u001b[43mkwargs\u001b[49m\u001b[43m)\u001b[49m\n",
      "File \u001b[0;32m~/.local/lib/python3.8/site-packages/torch/autograd/grad_mode.py:27\u001b[0m, in \u001b[0;36m_DecoratorContextManager.__call__.<locals>.decorate_context\u001b[0;34m(*args, **kwargs)\u001b[0m\n\u001b[1;32m     24\u001b[0m \u001b[38;5;129m@functools\u001b[39m\u001b[38;5;241m.\u001b[39mwraps(func)\n\u001b[1;32m     25\u001b[0m \u001b[38;5;28;01mdef\u001b[39;00m \u001b[38;5;21mdecorate_context\u001b[39m(\u001b[38;5;241m*\u001b[39margs, \u001b[38;5;241m*\u001b[39m\u001b[38;5;241m*\u001b[39mkwargs):\n\u001b[1;32m     26\u001b[0m     \u001b[38;5;28;01mwith\u001b[39;00m \u001b[38;5;28mself\u001b[39m\u001b[38;5;241m.\u001b[39mclone():\n\u001b[0;32m---> 27\u001b[0m         \u001b[38;5;28;01mreturn\u001b[39;00m \u001b[43mfunc\u001b[49m\u001b[43m(\u001b[49m\u001b[38;5;241;43m*\u001b[39;49m\u001b[43margs\u001b[49m\u001b[43m,\u001b[49m\u001b[43m \u001b[49m\u001b[38;5;241;43m*\u001b[39;49m\u001b[38;5;241;43m*\u001b[39;49m\u001b[43mkwargs\u001b[49m\u001b[43m)\u001b[49m\n",
      "File \u001b[0;32m~/.local/lib/python3.8/site-packages/torch/optim/adam.py:141\u001b[0m, in \u001b[0;36mAdam.step\u001b[0;34m(self, closure)\u001b[0m\n\u001b[1;32m    138\u001b[0m             \u001b[38;5;66;03m# record the step after step update\u001b[39;00m\n\u001b[1;32m    139\u001b[0m             state_steps\u001b[38;5;241m.\u001b[39mappend(state[\u001b[38;5;124m'\u001b[39m\u001b[38;5;124mstep\u001b[39m\u001b[38;5;124m'\u001b[39m])\n\u001b[0;32m--> 141\u001b[0m     \u001b[43mF\u001b[49m\u001b[38;5;241;43m.\u001b[39;49m\u001b[43madam\u001b[49m\u001b[43m(\u001b[49m\u001b[43mparams_with_grad\u001b[49m\u001b[43m,\u001b[49m\n\u001b[1;32m    142\u001b[0m \u001b[43m           \u001b[49m\u001b[43mgrads\u001b[49m\u001b[43m,\u001b[49m\n\u001b[1;32m    143\u001b[0m \u001b[43m           \u001b[49m\u001b[43mexp_avgs\u001b[49m\u001b[43m,\u001b[49m\n\u001b[1;32m    144\u001b[0m \u001b[43m           \u001b[49m\u001b[43mexp_avg_sqs\u001b[49m\u001b[43m,\u001b[49m\n\u001b[1;32m    145\u001b[0m \u001b[43m           \u001b[49m\u001b[43mmax_exp_avg_sqs\u001b[49m\u001b[43m,\u001b[49m\n\u001b[1;32m    146\u001b[0m \u001b[43m           \u001b[49m\u001b[43mstate_steps\u001b[49m\u001b[43m,\u001b[49m\n\u001b[1;32m    147\u001b[0m \u001b[43m           \u001b[49m\u001b[43mamsgrad\u001b[49m\u001b[38;5;241;43m=\u001b[39;49m\u001b[43mgroup\u001b[49m\u001b[43m[\u001b[49m\u001b[38;5;124;43m'\u001b[39;49m\u001b[38;5;124;43mamsgrad\u001b[39;49m\u001b[38;5;124;43m'\u001b[39;49m\u001b[43m]\u001b[49m\u001b[43m,\u001b[49m\n\u001b[1;32m    148\u001b[0m \u001b[43m           \u001b[49m\u001b[43mbeta1\u001b[49m\u001b[38;5;241;43m=\u001b[39;49m\u001b[43mbeta1\u001b[49m\u001b[43m,\u001b[49m\n\u001b[1;32m    149\u001b[0m \u001b[43m           \u001b[49m\u001b[43mbeta2\u001b[49m\u001b[38;5;241;43m=\u001b[39;49m\u001b[43mbeta2\u001b[49m\u001b[43m,\u001b[49m\n\u001b[1;32m    150\u001b[0m \u001b[43m           \u001b[49m\u001b[43mlr\u001b[49m\u001b[38;5;241;43m=\u001b[39;49m\u001b[43mgroup\u001b[49m\u001b[43m[\u001b[49m\u001b[38;5;124;43m'\u001b[39;49m\u001b[38;5;124;43mlr\u001b[39;49m\u001b[38;5;124;43m'\u001b[39;49m\u001b[43m]\u001b[49m\u001b[43m,\u001b[49m\n\u001b[1;32m    151\u001b[0m \u001b[43m           \u001b[49m\u001b[43mweight_decay\u001b[49m\u001b[38;5;241;43m=\u001b[39;49m\u001b[43mgroup\u001b[49m\u001b[43m[\u001b[49m\u001b[38;5;124;43m'\u001b[39;49m\u001b[38;5;124;43mweight_decay\u001b[39;49m\u001b[38;5;124;43m'\u001b[39;49m\u001b[43m]\u001b[49m\u001b[43m,\u001b[49m\n\u001b[1;32m    152\u001b[0m \u001b[43m           \u001b[49m\u001b[43meps\u001b[49m\u001b[38;5;241;43m=\u001b[39;49m\u001b[43mgroup\u001b[49m\u001b[43m[\u001b[49m\u001b[38;5;124;43m'\u001b[39;49m\u001b[38;5;124;43meps\u001b[39;49m\u001b[38;5;124;43m'\u001b[39;49m\u001b[43m]\u001b[49m\u001b[43m,\u001b[49m\n\u001b[1;32m    153\u001b[0m \u001b[43m           \u001b[49m\u001b[43mmaximize\u001b[49m\u001b[38;5;241;43m=\u001b[39;49m\u001b[43mgroup\u001b[49m\u001b[43m[\u001b[49m\u001b[38;5;124;43m'\u001b[39;49m\u001b[38;5;124;43mmaximize\u001b[39;49m\u001b[38;5;124;43m'\u001b[39;49m\u001b[43m]\u001b[49m\u001b[43m)\u001b[49m\n\u001b[1;32m    154\u001b[0m \u001b[38;5;28;01mreturn\u001b[39;00m loss\n",
      "File \u001b[0;32m~/.local/lib/python3.8/site-packages/torch/optim/_functional.py:103\u001b[0m, in \u001b[0;36madam\u001b[0;34m(params, grads, exp_avgs, exp_avg_sqs, max_exp_avg_sqs, state_steps, amsgrad, beta1, beta2, lr, weight_decay, eps, maximize)\u001b[0m\n\u001b[1;32m    101\u001b[0m     torch\u001b[38;5;241m.\u001b[39mmaximum(max_exp_avg_sqs[i], exp_avg_sq, out\u001b[38;5;241m=\u001b[39mmax_exp_avg_sqs[i])\n\u001b[1;32m    102\u001b[0m     \u001b[38;5;66;03m# Use the max. for normalizing running avg. of gradient\u001b[39;00m\n\u001b[0;32m--> 103\u001b[0m     denom \u001b[38;5;241m=\u001b[39m \u001b[43m(\u001b[49m\u001b[43mmax_exp_avg_sqs\u001b[49m\u001b[43m[\u001b[49m\u001b[43mi\u001b[49m\u001b[43m]\u001b[49m\u001b[38;5;241;43m.\u001b[39;49m\u001b[43msqrt\u001b[49m\u001b[43m(\u001b[49m\u001b[43m)\u001b[49m\u001b[43m \u001b[49m\u001b[38;5;241;43m/\u001b[39;49m\u001b[43m \u001b[49m\u001b[43mmath\u001b[49m\u001b[38;5;241;43m.\u001b[39;49m\u001b[43msqrt\u001b[49m\u001b[43m(\u001b[49m\u001b[43mbias_correction2\u001b[49m\u001b[43m)\u001b[49m\u001b[43m)\u001b[49m\u001b[38;5;241;43m.\u001b[39;49m\u001b[43madd_\u001b[49m\u001b[43m(\u001b[49m\u001b[43meps\u001b[49m\u001b[43m)\u001b[49m\n\u001b[1;32m    104\u001b[0m \u001b[38;5;28;01melse\u001b[39;00m:\n\u001b[1;32m    105\u001b[0m     denom \u001b[38;5;241m=\u001b[39m (exp_avg_sq\u001b[38;5;241m.\u001b[39msqrt() \u001b[38;5;241m/\u001b[39m math\u001b[38;5;241m.\u001b[39msqrt(bias_correction2))\u001b[38;5;241m.\u001b[39madd_(eps)\n",
      "\u001b[0;31mKeyboardInterrupt\u001b[0m: "
     ]
    }
   ],
   "source": [
    "model = BCNP((1, 1))\n",
    "model.to(device)\n",
    "\n",
    "optimizer = torch.optim.Adam(lr=1e-4, params=model.parameters(), betas=(0.9, 0.999), amsgrad=True)\n",
    "\n",
    "val_after_iter = 2500\n",
    "iters = 10000000\n",
    "\n",
    "losses = []\n",
    "min_verr = 1e6\n",
    "\n",
    "for i in range(iters):\n",
    "    obss, type_id, tx, ty = sample_training_demonstration()\n",
    "    \n",
    "    optimizer.zero_grad()\n",
    "    ty_preds = model(obss, type_id, tx)\n",
    "    loss = log_prob_loss(ty, ty_preds)\n",
    "    \n",
    "    if type_id == 0:\n",
    "        model.f0.requires_grad = True\n",
    "        model.f1.requires_grad = False\n",
    "    else:\n",
    "        model.f0.requires_grad = False\n",
    "        model.f1.requires_grad = True\n",
    "    \n",
    "    loss.backward()\n",
    "    optimizer.step()\n",
    "    \n",
    "    if (i)%val_after_iter == 0:\n",
    "        verr = validate()\n",
    "        print(f\"{i}: {verr}\", end=\"\\r\")\n",
    "        losses.append(verr)\n",
    "\n",
    "        if verr < min_verr:\n",
    "            min_verr = verr\n",
    "            torch.save(model.state_dict(), f'{path}/best_model_v0.pt')"
   ]
  },
  {
   "cell_type": "code",
   "execution_count": null,
   "id": "b4371c51",
   "metadata": {},
   "outputs": [],
   "source": [
    "plt.plot(range(len(losses[:50])), losses[:50])"
   ]
  },
  {
   "cell_type": "code",
   "execution_count": null,
   "id": "eb64c2ea",
   "metadata": {},
   "outputs": [],
   "source": []
  }
 ],
 "metadata": {
  "kernelspec": {
   "display_name": "Python 3 (ipykernel)",
   "language": "python",
   "name": "python3"
  },
  "language_info": {
   "codemirror_mode": {
    "name": "ipython",
    "version": 3
   },
   "file_extension": ".py",
   "mimetype": "text/x-python",
   "name": "python",
   "nbconvert_exporter": "python",
   "pygments_lexer": "ipython3",
   "version": "3.8.10"
  }
 },
 "nbformat": 4,
 "nbformat_minor": 5
}
